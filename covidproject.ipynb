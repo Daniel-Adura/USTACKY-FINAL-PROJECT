{
 "cells": [
  {
   "cell_type": "markdown",
   "metadata": {},
   "source": [
    "### Task 1 - Data Collection\n",
    "Here you will obtain the required data for the analysis. As described in the project instructions, you will perform a web scrap to obtain data from the NCDC website, import data from the John Hopkins repository, and import the provided external data.\n"
   ]
  },
  {
   "cell_type": "code",
   "execution_count": 44,
   "metadata": {},
   "outputs": [],
   "source": [
    "# Write Your Code Below\n",
    "# Import all libraries in this cell\n",
    "import requests\n",
    "\n",
    "import numpy as np\n",
    "\n",
    "import urllib.request\n",
    "\n",
    "import pandas as pd\n",
    "\n",
    "import csv\n",
    "\n",
    "from bs4 import BeautifulSoup\n",
    "\n",
    "import seaborn as sns\n",
    "\n",
    "sns.set_style(\"darkgrid\")\n",
    "\n",
    "import matplotlib.pyplot as plt\n",
    "\n",
    "%matplotlib inline\n",
    "\n",
    "plt.style.use('fivethirtyeight')  \n",
    "\n",
    "import warnings\n",
    "\n",
    "warnings.filterwarnings('ignore')\n",
    "\n",
    "import lxml\n",
    "import datetime as dt"
   ]
  },
  {
   "cell_type": "markdown",
   "metadata": {},
   "source": [
    "### A - NCDC Website scrap\n",
    "Website - https://covid19.ncdc.gov.ng/"
   ]
  },
  {
   "cell_type": "code",
   "execution_count": 45,
   "metadata": {},
   "outputs": [],
   "source": [
    "NCDC_info = requests.get(\"http://covid19.ncdc.gov.ng/report/\").text\n",
    "\n",
    "Soup = BeautifulSoup(NCDC_info, 'lxml')\n",
    "\n",
    "\n",
    "NCDC_info_table = Soup.find('div', class_ = \"table-responsive\")\n",
    "Column_unform = NCDC_info_table.find_all('th', class_ =\"\")\n",
    "\n",
    "Table_data = NCDC_info_table.find_all('td', class_ =\"\")\n",
    "\n",
    "colz = []\n",
    "tableData = []\n",
    "\n",
    "\n",
    "for columnsItems in Column_unform:\n",
    "    colz.append(columnsItems.text)\n",
    "#print(colz)\n",
    "\n",
    "for cellData in Table_data:\n",
    "    tableData.append(cellData.text.strip().replace('\\n', \"\"))\n",
    "\n",
    "rows = int(len(tableData)/5)\n",
    "\n",
    "tableData = np.array(tableData).reshape(rows, 5)\n",
    "\n",
    "DFA_NCDC = pd.DataFrame(tableData, columns = colz)\n"
   ]
  },
  {
   "cell_type": "markdown",
   "metadata": {},
   "source": [
    "# SECTION B begins here:\n",
    "### ---------------------------------------------------------------------------------------------------------"
   ]
  },
  {
   "cell_type": "markdown",
   "metadata": {},
   "source": [
    "### B - John Hopkins Data Repository\n",
    "Here you will obtain data from the John Hopkins repository. Your task here involves saving the data from the GitHub repo link to DataFrame for further analysis. Find the links below. \n",
    "* Global Daily Confirmed Cases - Click [Here](https://github.com/CSSEGISandData/COVID-19/blob/master/csse_covid_19_data/csse_covid_19_time_series/time_series_covid19_confirmed_global.csv)\n",
    "* Global Daily Recovered Cases - Click [Here](https://github.com/CSSEGISandData/COVID-19/blob/master/csse_covid_19_data/csse_covid_19_time_series/time_series_covid19_recovered_global.csv)\n",
    "* Global Daily Death Cases - Click [Here](https://github.com/CSSEGISandData/COVID-19/blob/master/csse_covid_19_data/csse_covid_19_time_series/time_series_covid19_deaths_global.csv)"
   ]
  },
  {
   "cell_type": "code",
   "execution_count": 46,
   "metadata": {},
   "outputs": [],
   "source": [
    "#[Write Your Code Here]\n",
    "confirmed_url = \"https://raw.githubusercontent.com/CSSEGISandData/COVID-19/master/csse_covid_19_data/csse_covid_19_time_series/time_series_covid19_confirmed_global.csv\"\n",
    "recovered_url = \"https://raw.githubusercontent.com/CSSEGISandData/COVID-19/master/csse_covid_19_data/csse_covid_19_time_series/time_series_covid19_recovered_global.csv\"\n",
    "dead_url = \"https://raw.githubusercontent.com/CSSEGISandData/COVID-19/master/csse_covid_19_data/csse_covid_19_time_series/time_series_covid19_deaths_global.csv\"\n",
    "\n",
    "con_DF_JH = pd.read_csv(confirmed_url)\n",
    "Rec_DF_JH = pd.read_csv(recovered_url)\n",
    "Dea_DF_JH = pd.read_csv(dead_url)"
   ]
  },
  {
   "cell_type": "code",
   "execution_count": 47,
   "metadata": {},
   "outputs": [
    {
     "data": {
      "text/html": [
       "<div>\n",
       "<style scoped>\n",
       "    .dataframe tbody tr th:only-of-type {\n",
       "        vertical-align: middle;\n",
       "    }\n",
       "\n",
       "    .dataframe tbody tr th {\n",
       "        vertical-align: top;\n",
       "    }\n",
       "\n",
       "    .dataframe thead th {\n",
       "        text-align: right;\n",
       "    }\n",
       "</style>\n",
       "<table border=\"1\" class=\"dataframe\">\n",
       "  <thead>\n",
       "    <tr style=\"text-align: right;\">\n",
       "      <th></th>\n",
       "      <th>Province/State</th>\n",
       "      <th>Country/Region</th>\n",
       "      <th>Lat</th>\n",
       "      <th>Long</th>\n",
       "      <th>1/22/20</th>\n",
       "      <th>1/23/20</th>\n",
       "      <th>1/24/20</th>\n",
       "      <th>1/25/20</th>\n",
       "      <th>1/26/20</th>\n",
       "      <th>1/27/20</th>\n",
       "      <th>...</th>\n",
       "      <th>7/21/22</th>\n",
       "      <th>7/22/22</th>\n",
       "      <th>7/23/22</th>\n",
       "      <th>7/24/22</th>\n",
       "      <th>7/25/22</th>\n",
       "      <th>7/26/22</th>\n",
       "      <th>7/27/22</th>\n",
       "      <th>7/28/22</th>\n",
       "      <th>7/29/22</th>\n",
       "      <th>7/30/22</th>\n",
       "    </tr>\n",
       "  </thead>\n",
       "  <tbody>\n",
       "    <tr>\n",
       "      <th>0</th>\n",
       "      <td>NaN</td>\n",
       "      <td>Afghanistan</td>\n",
       "      <td>33.93911</td>\n",
       "      <td>67.709953</td>\n",
       "      <td>0</td>\n",
       "      <td>0</td>\n",
       "      <td>0</td>\n",
       "      <td>0</td>\n",
       "      <td>0</td>\n",
       "      <td>0</td>\n",
       "      <td>...</td>\n",
       "      <td>0</td>\n",
       "      <td>0</td>\n",
       "      <td>0</td>\n",
       "      <td>0</td>\n",
       "      <td>0</td>\n",
       "      <td>0</td>\n",
       "      <td>0</td>\n",
       "      <td>0</td>\n",
       "      <td>0</td>\n",
       "      <td>0</td>\n",
       "    </tr>\n",
       "    <tr>\n",
       "      <th>1</th>\n",
       "      <td>NaN</td>\n",
       "      <td>Albania</td>\n",
       "      <td>41.15330</td>\n",
       "      <td>20.168300</td>\n",
       "      <td>0</td>\n",
       "      <td>0</td>\n",
       "      <td>0</td>\n",
       "      <td>0</td>\n",
       "      <td>0</td>\n",
       "      <td>0</td>\n",
       "      <td>...</td>\n",
       "      <td>0</td>\n",
       "      <td>0</td>\n",
       "      <td>0</td>\n",
       "      <td>0</td>\n",
       "      <td>0</td>\n",
       "      <td>0</td>\n",
       "      <td>0</td>\n",
       "      <td>0</td>\n",
       "      <td>0</td>\n",
       "      <td>0</td>\n",
       "    </tr>\n",
       "    <tr>\n",
       "      <th>2</th>\n",
       "      <td>NaN</td>\n",
       "      <td>Algeria</td>\n",
       "      <td>28.03390</td>\n",
       "      <td>1.659600</td>\n",
       "      <td>0</td>\n",
       "      <td>0</td>\n",
       "      <td>0</td>\n",
       "      <td>0</td>\n",
       "      <td>0</td>\n",
       "      <td>0</td>\n",
       "      <td>...</td>\n",
       "      <td>0</td>\n",
       "      <td>0</td>\n",
       "      <td>0</td>\n",
       "      <td>0</td>\n",
       "      <td>0</td>\n",
       "      <td>0</td>\n",
       "      <td>0</td>\n",
       "      <td>0</td>\n",
       "      <td>0</td>\n",
       "      <td>0</td>\n",
       "    </tr>\n",
       "    <tr>\n",
       "      <th>3</th>\n",
       "      <td>NaN</td>\n",
       "      <td>Andorra</td>\n",
       "      <td>42.50630</td>\n",
       "      <td>1.521800</td>\n",
       "      <td>0</td>\n",
       "      <td>0</td>\n",
       "      <td>0</td>\n",
       "      <td>0</td>\n",
       "      <td>0</td>\n",
       "      <td>0</td>\n",
       "      <td>...</td>\n",
       "      <td>0</td>\n",
       "      <td>0</td>\n",
       "      <td>0</td>\n",
       "      <td>0</td>\n",
       "      <td>0</td>\n",
       "      <td>0</td>\n",
       "      <td>0</td>\n",
       "      <td>0</td>\n",
       "      <td>0</td>\n",
       "      <td>0</td>\n",
       "    </tr>\n",
       "    <tr>\n",
       "      <th>4</th>\n",
       "      <td>NaN</td>\n",
       "      <td>Angola</td>\n",
       "      <td>-11.20270</td>\n",
       "      <td>17.873900</td>\n",
       "      <td>0</td>\n",
       "      <td>0</td>\n",
       "      <td>0</td>\n",
       "      <td>0</td>\n",
       "      <td>0</td>\n",
       "      <td>0</td>\n",
       "      <td>...</td>\n",
       "      <td>0</td>\n",
       "      <td>0</td>\n",
       "      <td>0</td>\n",
       "      <td>0</td>\n",
       "      <td>0</td>\n",
       "      <td>0</td>\n",
       "      <td>0</td>\n",
       "      <td>0</td>\n",
       "      <td>0</td>\n",
       "      <td>0</td>\n",
       "    </tr>\n",
       "  </tbody>\n",
       "</table>\n",
       "<p>5 rows × 925 columns</p>\n",
       "</div>"
      ],
      "text/plain": [
       "  Province/State Country/Region       Lat       Long  1/22/20  1/23/20  \\\n",
       "0            NaN    Afghanistan  33.93911  67.709953        0        0   \n",
       "1            NaN        Albania  41.15330  20.168300        0        0   \n",
       "2            NaN        Algeria  28.03390   1.659600        0        0   \n",
       "3            NaN        Andorra  42.50630   1.521800        0        0   \n",
       "4            NaN         Angola -11.20270  17.873900        0        0   \n",
       "\n",
       "   1/24/20  1/25/20  1/26/20  1/27/20  ...  7/21/22  7/22/22  7/23/22  \\\n",
       "0        0        0        0        0  ...        0        0        0   \n",
       "1        0        0        0        0  ...        0        0        0   \n",
       "2        0        0        0        0  ...        0        0        0   \n",
       "3        0        0        0        0  ...        0        0        0   \n",
       "4        0        0        0        0  ...        0        0        0   \n",
       "\n",
       "   7/24/22  7/25/22  7/26/22  7/27/22  7/28/22  7/29/22  7/30/22  \n",
       "0        0        0        0        0        0        0        0  \n",
       "1        0        0        0        0        0        0        0  \n",
       "2        0        0        0        0        0        0        0  \n",
       "3        0        0        0        0        0        0        0  \n",
       "4        0        0        0        0        0        0        0  \n",
       "\n",
       "[5 rows x 925 columns]"
      ]
     },
     "execution_count": 47,
     "metadata": {},
     "output_type": "execute_result"
    }
   ],
   "source": [
    "Rec_DF_JH.head()"
   ]
  },
  {
   "cell_type": "markdown",
   "metadata": {},
   "source": [
    "### ------------------------------------------------------------------"
   ]
  },
  {
   "cell_type": "markdown",
   "metadata": {},
   "source": [
    "### C - External Data \n",
    "* Save the external data to a DataFrame\n",
    "* External Data includes but not limited to: `covid_external.csv`, `Budget data.csv`, `RealGDP.csv`"
   ]
  },
  {
   "cell_type": "code",
   "execution_count": 48,
   "metadata": {},
   "outputs": [],
   "source": [
    "#[Write Your Code Here]\n",
    "covid_extDF = pd.read_csv('covid_external.csv')\n",
    "budget_df = pd.read_csv('Budget data.csv')\n",
    "GDP_df = pd.read_csv('realGDP.csv')\n"
   ]
  },
  {
   "cell_type": "markdown",
   "metadata": {},
   "source": [
    "### Task 2 - View the data\n",
    "Obtain basic information about the data using the `head()` and `info()` method."
   ]
  },
  {
   "cell_type": "code",
   "execution_count": 49,
   "metadata": {},
   "outputs": [
    {
     "data": {
      "text/html": [
       "<div>\n",
       "<style scoped>\n",
       "    .dataframe tbody tr th:only-of-type {\n",
       "        vertical-align: middle;\n",
       "    }\n",
       "\n",
       "    .dataframe tbody tr th {\n",
       "        vertical-align: top;\n",
       "    }\n",
       "\n",
       "    .dataframe thead th {\n",
       "        text-align: right;\n",
       "    }\n",
       "</style>\n",
       "<table border=\"1\" class=\"dataframe\">\n",
       "  <thead>\n",
       "    <tr style=\"text-align: right;\">\n",
       "      <th></th>\n",
       "      <th>States Affected</th>\n",
       "      <th>No. of Cases (Lab Confirmed)</th>\n",
       "      <th>No. of Cases (on admission)</th>\n",
       "      <th>No. Discharged</th>\n",
       "      <th>No. of Deaths</th>\n",
       "    </tr>\n",
       "  </thead>\n",
       "  <tbody>\n",
       "    <tr>\n",
       "      <th>0</th>\n",
       "      <td>Lagos</td>\n",
       "      <td>102,332</td>\n",
       "      <td>979</td>\n",
       "      <td>100,582</td>\n",
       "      <td>771</td>\n",
       "    </tr>\n",
       "    <tr>\n",
       "      <th>1</th>\n",
       "      <td>FCT</td>\n",
       "      <td>28,949</td>\n",
       "      <td>167</td>\n",
       "      <td>28,533</td>\n",
       "      <td>249</td>\n",
       "    </tr>\n",
       "    <tr>\n",
       "      <th>2</th>\n",
       "      <td>Rivers</td>\n",
       "      <td>17,252</td>\n",
       "      <td>383</td>\n",
       "      <td>16,715</td>\n",
       "      <td>154</td>\n",
       "    </tr>\n",
       "    <tr>\n",
       "      <th>3</th>\n",
       "      <td>Kaduna</td>\n",
       "      <td>11,402</td>\n",
       "      <td>88</td>\n",
       "      <td>11,225</td>\n",
       "      <td>89</td>\n",
       "    </tr>\n",
       "    <tr>\n",
       "      <th>4</th>\n",
       "      <td>Oyo</td>\n",
       "      <td>10,311</td>\n",
       "      <td>49</td>\n",
       "      <td>10,060</td>\n",
       "      <td>202</td>\n",
       "    </tr>\n",
       "  </tbody>\n",
       "</table>\n",
       "</div>"
      ],
      "text/plain": [
       "  States Affected No. of Cases (Lab Confirmed) No. of Cases (on admission)  \\\n",
       "0           Lagos                      102,332                         979   \n",
       "1             FCT                       28,949                         167   \n",
       "2          Rivers                       17,252                         383   \n",
       "3          Kaduna                       11,402                          88   \n",
       "4             Oyo                       10,311                          49   \n",
       "\n",
       "  No. Discharged No. of Deaths  \n",
       "0        100,582           771  \n",
       "1         28,533           249  \n",
       "2         16,715           154  \n",
       "3         11,225            89  \n",
       "4         10,060           202  "
      ]
     },
     "execution_count": 49,
     "metadata": {},
     "output_type": "execute_result"
    }
   ],
   "source": [
    "#[Write Your Code Here]\n",
    "DFA_NCDC.head()"
   ]
  },
  {
   "cell_type": "markdown",
   "metadata": {},
   "source": [
    "\n",
    "#### -------------------------------------------------SECTION 3-----------------------------------------------------------"
   ]
  },
  {
   "cell_type": "markdown",
   "metadata": {},
   "source": [
    "### Task 3 - Data Cleaning and Preparation\n",
    "From the information obtained above, you will need to fix the data format. \n",
    "<br>\n",
    "Examples: \n",
    "* Convert to appropriate data type.\n",
    "* Rename the columns of the scraped data.\n",
    "* Remove comma(,) in numerical data\n",
    "* Extract daily data for Nigeria from the Global daily cases data"
   ]
  },
  {
   "cell_type": "markdown",
   "metadata": {},
   "source": [
    "TODO A - Clean the scraped data"
   ]
  },
  {
   "cell_type": "code",
   "execution_count": 50,
   "metadata": {},
   "outputs": [
    {
     "data": {
      "text/html": [
       "<div>\n",
       "<style scoped>\n",
       "    .dataframe tbody tr th:only-of-type {\n",
       "        vertical-align: middle;\n",
       "    }\n",
       "\n",
       "    .dataframe tbody tr th {\n",
       "        vertical-align: top;\n",
       "    }\n",
       "\n",
       "    .dataframe thead th {\n",
       "        text-align: right;\n",
       "    }\n",
       "</style>\n",
       "<table border=\"1\" class=\"dataframe\">\n",
       "  <thead>\n",
       "    <tr style=\"text-align: right;\">\n",
       "      <th></th>\n",
       "      <th>States Affected</th>\n",
       "      <th>No. of Cases (Lab Confirmed)</th>\n",
       "      <th>No. of Cases (on admission)</th>\n",
       "      <th>No. Discharged</th>\n",
       "      <th>No. of Deaths</th>\n",
       "    </tr>\n",
       "  </thead>\n",
       "  <tbody>\n",
       "    <tr>\n",
       "      <th>0</th>\n",
       "      <td>Lagos</td>\n",
       "      <td>102,332</td>\n",
       "      <td>979</td>\n",
       "      <td>100,582</td>\n",
       "      <td>771</td>\n",
       "    </tr>\n",
       "    <tr>\n",
       "      <th>1</th>\n",
       "      <td>FCT</td>\n",
       "      <td>28,949</td>\n",
       "      <td>167</td>\n",
       "      <td>28,533</td>\n",
       "      <td>249</td>\n",
       "    </tr>\n",
       "    <tr>\n",
       "      <th>2</th>\n",
       "      <td>Rivers</td>\n",
       "      <td>17,252</td>\n",
       "      <td>383</td>\n",
       "      <td>16,715</td>\n",
       "      <td>154</td>\n",
       "    </tr>\n",
       "    <tr>\n",
       "      <th>3</th>\n",
       "      <td>Kaduna</td>\n",
       "      <td>11,402</td>\n",
       "      <td>88</td>\n",
       "      <td>11,225</td>\n",
       "      <td>89</td>\n",
       "    </tr>\n",
       "    <tr>\n",
       "      <th>4</th>\n",
       "      <td>Oyo</td>\n",
       "      <td>10,311</td>\n",
       "      <td>49</td>\n",
       "      <td>10,060</td>\n",
       "      <td>202</td>\n",
       "    </tr>\n",
       "    <tr>\n",
       "      <th>5</th>\n",
       "      <td>Plateau</td>\n",
       "      <td>10,279</td>\n",
       "      <td>21</td>\n",
       "      <td>10,183</td>\n",
       "      <td>75</td>\n",
       "    </tr>\n",
       "    <tr>\n",
       "      <th>6</th>\n",
       "      <td>Edo</td>\n",
       "      <td>7,821</td>\n",
       "      <td>102</td>\n",
       "      <td>7,398</td>\n",
       "      <td>321</td>\n",
       "    </tr>\n",
       "    <tr>\n",
       "      <th>7</th>\n",
       "      <td>Ogun</td>\n",
       "      <td>5,810</td>\n",
       "      <td>11</td>\n",
       "      <td>5,717</td>\n",
       "      <td>82</td>\n",
       "    </tr>\n",
       "    <tr>\n",
       "      <th>8</th>\n",
       "      <td>Delta</td>\n",
       "      <td>5,542</td>\n",
       "      <td>260</td>\n",
       "      <td>5,170</td>\n",
       "      <td>112</td>\n",
       "    </tr>\n",
       "    <tr>\n",
       "      <th>9</th>\n",
       "      <td>Ondo</td>\n",
       "      <td>5,173</td>\n",
       "      <td>315</td>\n",
       "      <td>4,749</td>\n",
       "      <td>109</td>\n",
       "    </tr>\n",
       "    <tr>\n",
       "      <th>10</th>\n",
       "      <td>Kano</td>\n",
       "      <td>5,133</td>\n",
       "      <td>58</td>\n",
       "      <td>4,948</td>\n",
       "      <td>127</td>\n",
       "    </tr>\n",
       "    <tr>\n",
       "      <th>11</th>\n",
       "      <td>Akwa Ibom</td>\n",
       "      <td>4,670</td>\n",
       "      <td>40</td>\n",
       "      <td>4,586</td>\n",
       "      <td>44</td>\n",
       "    </tr>\n",
       "    <tr>\n",
       "      <th>12</th>\n",
       "      <td>Kwara</td>\n",
       "      <td>4,660</td>\n",
       "      <td>421</td>\n",
       "      <td>4,175</td>\n",
       "      <td>64</td>\n",
       "    </tr>\n",
       "    <tr>\n",
       "      <th>13</th>\n",
       "      <td>Osun</td>\n",
       "      <td>3,311</td>\n",
       "      <td>36</td>\n",
       "      <td>3,183</td>\n",
       "      <td>92</td>\n",
       "    </tr>\n",
       "    <tr>\n",
       "      <th>14</th>\n",
       "      <td>Gombe</td>\n",
       "      <td>3,310</td>\n",
       "      <td>6</td>\n",
       "      <td>3,238</td>\n",
       "      <td>66</td>\n",
       "    </tr>\n",
       "    <tr>\n",
       "      <th>15</th>\n",
       "      <td>Enugu</td>\n",
       "      <td>2,952</td>\n",
       "      <td>13</td>\n",
       "      <td>2,910</td>\n",
       "      <td>29</td>\n",
       "    </tr>\n",
       "    <tr>\n",
       "      <th>16</th>\n",
       "      <td>Anambra</td>\n",
       "      <td>2,825</td>\n",
       "      <td>46</td>\n",
       "      <td>2,760</td>\n",
       "      <td>19</td>\n",
       "    </tr>\n",
       "    <tr>\n",
       "      <th>17</th>\n",
       "      <td>Nasarawa</td>\n",
       "      <td>2,757</td>\n",
       "      <td>373</td>\n",
       "      <td>2,345</td>\n",
       "      <td>39</td>\n",
       "    </tr>\n",
       "    <tr>\n",
       "      <th>18</th>\n",
       "      <td>Imo</td>\n",
       "      <td>2,655</td>\n",
       "      <td>7</td>\n",
       "      <td>2,590</td>\n",
       "      <td>58</td>\n",
       "    </tr>\n",
       "    <tr>\n",
       "      <th>19</th>\n",
       "      <td>Katsina</td>\n",
       "      <td>2,418</td>\n",
       "      <td>0</td>\n",
       "      <td>2,381</td>\n",
       "      <td>37</td>\n",
       "    </tr>\n",
       "    <tr>\n",
       "      <th>20</th>\n",
       "      <td>Ekiti</td>\n",
       "      <td>2,393</td>\n",
       "      <td>69</td>\n",
       "      <td>2,296</td>\n",
       "      <td>28</td>\n",
       "    </tr>\n",
       "    <tr>\n",
       "      <th>21</th>\n",
       "      <td>Abia</td>\n",
       "      <td>2,201</td>\n",
       "      <td>24</td>\n",
       "      <td>2,143</td>\n",
       "      <td>34</td>\n",
       "    </tr>\n",
       "    <tr>\n",
       "      <th>22</th>\n",
       "      <td>Benue</td>\n",
       "      <td>2,129</td>\n",
       "      <td>340</td>\n",
       "      <td>1,764</td>\n",
       "      <td>25</td>\n",
       "    </tr>\n",
       "    <tr>\n",
       "      <th>23</th>\n",
       "      <td>Ebonyi</td>\n",
       "      <td>2,064</td>\n",
       "      <td>28</td>\n",
       "      <td>2,004</td>\n",
       "      <td>32</td>\n",
       "    </tr>\n",
       "    <tr>\n",
       "      <th>24</th>\n",
       "      <td>Bauchi</td>\n",
       "      <td>1,970</td>\n",
       "      <td>2</td>\n",
       "      <td>1,944</td>\n",
       "      <td>24</td>\n",
       "    </tr>\n",
       "    <tr>\n",
       "      <th>25</th>\n",
       "      <td>Borno</td>\n",
       "      <td>1,629</td>\n",
       "      <td>5</td>\n",
       "      <td>1,580</td>\n",
       "      <td>44</td>\n",
       "    </tr>\n",
       "    <tr>\n",
       "      <th>26</th>\n",
       "      <td>Taraba</td>\n",
       "      <td>1,473</td>\n",
       "      <td>62</td>\n",
       "      <td>1,377</td>\n",
       "      <td>34</td>\n",
       "    </tr>\n",
       "    <tr>\n",
       "      <th>27</th>\n",
       "      <td>Bayelsa</td>\n",
       "      <td>1,355</td>\n",
       "      <td>17</td>\n",
       "      <td>1,310</td>\n",
       "      <td>28</td>\n",
       "    </tr>\n",
       "    <tr>\n",
       "      <th>28</th>\n",
       "      <td>Adamawa</td>\n",
       "      <td>1,203</td>\n",
       "      <td>68</td>\n",
       "      <td>1,103</td>\n",
       "      <td>32</td>\n",
       "    </tr>\n",
       "    <tr>\n",
       "      <th>29</th>\n",
       "      <td>Niger</td>\n",
       "      <td>1,148</td>\n",
       "      <td>130</td>\n",
       "      <td>998</td>\n",
       "      <td>20</td>\n",
       "    </tr>\n",
       "    <tr>\n",
       "      <th>30</th>\n",
       "      <td>Cross River</td>\n",
       "      <td>865</td>\n",
       "      <td>7</td>\n",
       "      <td>833</td>\n",
       "      <td>25</td>\n",
       "    </tr>\n",
       "    <tr>\n",
       "      <th>31</th>\n",
       "      <td>Sokoto</td>\n",
       "      <td>822</td>\n",
       "      <td>0</td>\n",
       "      <td>794</td>\n",
       "      <td>28</td>\n",
       "    </tr>\n",
       "    <tr>\n",
       "      <th>32</th>\n",
       "      <td>Jigawa</td>\n",
       "      <td>669</td>\n",
       "      <td>2</td>\n",
       "      <td>649</td>\n",
       "      <td>18</td>\n",
       "    </tr>\n",
       "    <tr>\n",
       "      <th>33</th>\n",
       "      <td>Yobe</td>\n",
       "      <td>634</td>\n",
       "      <td>1</td>\n",
       "      <td>624</td>\n",
       "      <td>9</td>\n",
       "    </tr>\n",
       "    <tr>\n",
       "      <th>34</th>\n",
       "      <td>Kebbi</td>\n",
       "      <td>480</td>\n",
       "      <td>10</td>\n",
       "      <td>454</td>\n",
       "      <td>16</td>\n",
       "    </tr>\n",
       "    <tr>\n",
       "      <th>35</th>\n",
       "      <td>Zamfara</td>\n",
       "      <td>375</td>\n",
       "      <td>0</td>\n",
       "      <td>366</td>\n",
       "      <td>9</td>\n",
       "    </tr>\n",
       "    <tr>\n",
       "      <th>36</th>\n",
       "      <td>Kogi</td>\n",
       "      <td>5</td>\n",
       "      <td>0</td>\n",
       "      <td>3</td>\n",
       "      <td>2</td>\n",
       "    </tr>\n",
       "  </tbody>\n",
       "</table>\n",
       "</div>"
      ],
      "text/plain": [
       "   States Affected No. of Cases (Lab Confirmed) No. of Cases (on admission)  \\\n",
       "0            Lagos                      102,332                         979   \n",
       "1              FCT                       28,949                         167   \n",
       "2           Rivers                       17,252                         383   \n",
       "3           Kaduna                       11,402                          88   \n",
       "4              Oyo                       10,311                          49   \n",
       "5          Plateau                       10,279                          21   \n",
       "6              Edo                        7,821                         102   \n",
       "7             Ogun                        5,810                          11   \n",
       "8            Delta                        5,542                         260   \n",
       "9             Ondo                        5,173                         315   \n",
       "10            Kano                        5,133                          58   \n",
       "11       Akwa Ibom                        4,670                          40   \n",
       "12           Kwara                        4,660                         421   \n",
       "13            Osun                        3,311                          36   \n",
       "14           Gombe                        3,310                           6   \n",
       "15           Enugu                        2,952                          13   \n",
       "16         Anambra                        2,825                          46   \n",
       "17        Nasarawa                        2,757                         373   \n",
       "18             Imo                        2,655                           7   \n",
       "19         Katsina                        2,418                           0   \n",
       "20           Ekiti                        2,393                          69   \n",
       "21            Abia                        2,201                          24   \n",
       "22           Benue                        2,129                         340   \n",
       "23          Ebonyi                        2,064                          28   \n",
       "24          Bauchi                        1,970                           2   \n",
       "25           Borno                        1,629                           5   \n",
       "26          Taraba                        1,473                          62   \n",
       "27         Bayelsa                        1,355                          17   \n",
       "28         Adamawa                        1,203                          68   \n",
       "29           Niger                        1,148                         130   \n",
       "30     Cross River                          865                           7   \n",
       "31          Sokoto                          822                           0   \n",
       "32          Jigawa                          669                           2   \n",
       "33            Yobe                          634                           1   \n",
       "34           Kebbi                          480                          10   \n",
       "35         Zamfara                          375                           0   \n",
       "36            Kogi                            5                           0   \n",
       "\n",
       "   No. Discharged No. of Deaths  \n",
       "0         100,582           771  \n",
       "1          28,533           249  \n",
       "2          16,715           154  \n",
       "3          11,225            89  \n",
       "4          10,060           202  \n",
       "5          10,183            75  \n",
       "6           7,398           321  \n",
       "7           5,717            82  \n",
       "8           5,170           112  \n",
       "9           4,749           109  \n",
       "10          4,948           127  \n",
       "11          4,586            44  \n",
       "12          4,175            64  \n",
       "13          3,183            92  \n",
       "14          3,238            66  \n",
       "15          2,910            29  \n",
       "16          2,760            19  \n",
       "17          2,345            39  \n",
       "18          2,590            58  \n",
       "19          2,381            37  \n",
       "20          2,296            28  \n",
       "21          2,143            34  \n",
       "22          1,764            25  \n",
       "23          2,004            32  \n",
       "24          1,944            24  \n",
       "25          1,580            44  \n",
       "26          1,377            34  \n",
       "27          1,310            28  \n",
       "28          1,103            32  \n",
       "29            998            20  \n",
       "30            833            25  \n",
       "31            794            28  \n",
       "32            649            18  \n",
       "33            624             9  \n",
       "34            454            16  \n",
       "35            366             9  \n",
       "36              3             2  "
      ]
     },
     "execution_count": 50,
     "metadata": {},
     "output_type": "execute_result"
    }
   ],
   "source": [
    "#[Write Your Code Here]\n",
    "DFA_NCDC"
   ]
  },
  {
   "cell_type": "code",
   "execution_count": 51,
   "metadata": {},
   "outputs": [],
   "source": [
    "lab_confirmed = []\n",
    "\n",
    "for item in DFA_NCDC['No. of Cases (Lab Confirmed)']:\n",
    "    item = str(item).replace(\",\",\"\")\n",
    "    item = int(item)\n",
    "    lab_confirmed.append(item)\n",
    "\n",
    "DFA_NCDC['No. of Cases (Lab Confirmed)'] = lab_confirmed\n"
   ]
  },
  {
   "cell_type": "code",
   "execution_count": 52,
   "metadata": {},
   "outputs": [],
   "source": [
    "on_admission = []\n",
    "\n",
    "for item in DFA_NCDC['No. of Cases (on admission)']:\n",
    "    item = str(item).replace(\",\",\"\")\n",
    "    item = int(item)\n",
    "    on_admission.append(item)\n",
    "\n",
    "DFA_NCDC['No. of Cases (on admission)'] = on_admission"
   ]
  },
  {
   "cell_type": "code",
   "execution_count": 53,
   "metadata": {},
   "outputs": [],
   "source": [
    "discharged = []\n",
    "\n",
    "for item in DFA_NCDC['No. Discharged']:\n",
    "    item = str(item).replace(\",\",\"\")\n",
    "    item = int(item)\n",
    "    discharged.append(item)\n",
    "\n",
    "DFA_NCDC['No. Discharged'] = discharged"
   ]
  },
  {
   "cell_type": "code",
   "execution_count": 54,
   "metadata": {},
   "outputs": [],
   "source": [
    "dead = []\n",
    "\n",
    "for item in DFA_NCDC['No. of Deaths']:\n",
    "    item = str(item).replace(\",\",\"\")\n",
    "    item = int(item)\n",
    "    dead.append(item)\n",
    "\n",
    "DFA_NCDC['No. of Deaths'] = dead"
   ]
  },
  {
   "cell_type": "code",
   "execution_count": 55,
   "metadata": {},
   "outputs": [
    {
     "data": {
      "text/plain": [
       "States Affected                 object\n",
       "No. of Cases (Lab Confirmed)     int64\n",
       "No. of Cases (on admission)      int64\n",
       "No. Discharged                   int64\n",
       "No. of Deaths                    int64\n",
       "dtype: object"
      ]
     },
     "execution_count": 55,
     "metadata": {},
     "output_type": "execute_result"
    }
   ],
   "source": [
    "DFA_NCDC.dtypes\n"
   ]
  },
  {
   "cell_type": "markdown",
   "metadata": {},
   "source": [
    "TODO B - Get a Pandas DataFrame for Daily Confirmed Cases in Nigeria. Columns are Date and Cases"
   ]
  },
  {
   "cell_type": "code",
   "execution_count": 56,
   "metadata": {},
   "outputs": [],
   "source": [
    "indexofNig = con_DF_JH.index[con_DF_JH['Country/Region']=='Nigeria']\n",
    "\n",
    "nigeriaConfirmedcases = con_DF_JH.iloc[indexofNig]\n",
    "nigeriaConfirmedcases\n",
    "\n",
    "del nigeriaConfirmedcases['Province/State']\n",
    "del nigeriaConfirmedcases['Country/Region']\n",
    "del nigeriaConfirmedcases['Lat']\n",
    "del nigeriaConfirmedcases['Long']\n",
    "\n",
    "nigeriaConfirmedcases = nigeriaConfirmedcases.T\n",
    "\n",
    "nigeriaConfirmedcases.reset_index(inplace = True)\n",
    "nigeriaConfirmedcases = nigeriaConfirmedcases.set_axis(['Date', 'Cases'],axis = 1)\n",
    "\n",
    "\n",
    "nigeriaConfirmedcases"
   ]
  },
  {
   "cell_type": "markdown",
   "metadata": {},
   "source": [
    "TODO C - Get a Pandas DataFrame for Daily Recovered Cases in Nigeria. Columns are Date and Cases"
   ]
  },
  {
   "cell_type": "code",
   "execution_count": 57,
   "metadata": {},
   "outputs": [],
   "source": [
    "\n",
    "indexofNig1 = Rec_DF_JH.index[Rec_DF_JH['Country/Region']=='Nigeria']\n",
    "\n",
    "nigeriarecoveredcases = Rec_DF_JH.iloc[indexofNig1]\n",
    "\n",
    "del nigeriarecoveredcases['Province/State']\n",
    "del nigeriarecoveredcases['Country/Region']\n",
    "del nigeriarecoveredcases['Lat']\n",
    "del nigeriarecoveredcases['Long']\n",
    "\n",
    "nigeriarecoveredcases = nigeriarecoveredcases.T\n",
    "\n",
    "nigeriarecoveredcases.reset_index(inplace = True)\n",
    "nigeriarecoveredcases = nigeriarecoveredcases.set_axis(['Date', 'Cases'],axis = 1)\n",
    "\n",
    "\n",
    "nigeriarecoveredcases"
   ]
  },
  {
   "cell_type": "markdown",
   "metadata": {},
   "source": [
    "TODO D - Get a Pandas DataFrame for Daily Death Cases in Nigeria. Columns are Date and Cases"
   ]
  },
  {
   "cell_type": "code",
   "execution_count": 58,
   "metadata": {},
   "outputs": [],
   "source": [
    "indexofNig2 = Dea_DF_JH.index[Dea_DF_JH['Country/Region']=='Nigeria']\n",
    "\n",
    "nigeriadeathcases = Dea_DF_JH.iloc[indexofNig2]\n",
    "\n",
    "del nigeriadeathcases['Province/State']\n",
    "del nigeriadeathcases['Country/Region']\n",
    "del nigeriadeathcases['Lat']\n",
    "del nigeriadeathcases['Long']\n",
    "\n",
    "nigeriadeathcases = nigeriadeathcases.T\n",
    "\n",
    "nigeriadeathcases.reset_index(inplace = True)\n",
    "nigeriadeathcases = nigeriadeathcases.set_axis(['Date', 'Cases'],axis = 1)\n",
    "\n",
    "\n",
    "nigeriadeathcases"
   ]
  },
  {
   "cell_type": "markdown",
   "metadata": {},
   "source": [
    "### -------------------------------------------------------Section 4-------------------------------------------------------"
   ]
  },
  {
   "cell_type": "markdown",
   "metadata": {},
   "source": [
    "### Task 4 - Analysis\n",
    "Here you will perform some analyses on the datasets. You are welcome to communicate findings in charts and summary. \n",
    "<br>\n",
    "We have included a few TODOs to help with your analysis. However, do not let this limit your approach, feel free to include more, and be sure to support your findings with chart and summary "
   ]
  },
  {
   "cell_type": "markdown",
   "metadata": {},
   "source": [
    "TODO A - Generate a plot that shows the Top 10 states in terms of Confirmed Covid cases by Laboratory test"
   ]
  },
  {
   "cell_type": "code",
   "execution_count": 59,
   "metadata": {},
   "outputs": [],
   "source": [
    "TopTENLAB = DFA_NCDC.sort_values(by = 'No. of Cases (Lab Confirmed)', ascending = False).head(10)\n",
    "\n"
   ]
  },
  {
   "cell_type": "code",
   "execution_count": 60,
   "metadata": {},
   "outputs": [
    {
     "data": {
      "text/plain": [
       "<seaborn.axisgrid.FacetGrid at 0x181c668b8b0>"
      ]
     },
     "execution_count": 60,
     "metadata": {},
     "output_type": "execute_result"
    },
    {
     "data": {
      "image/png": "[encoded data removed]",
      "text/plain": [
       "<Figure size 1080x360 with 1 Axes>"
      ]
     },
     "metadata": {},
     "output_type": "display_data"
    }
   ],
   "source": [
    "data = TopTENLAB[['States Affected', 'No. of Cases (Lab Confirmed)']]\n",
    "\n",
    "sns.catplot(data = data, x = 'No. of Cases (Lab Confirmed)', y = 'States Affected', kind = 'bar', aspect = 3)"
   ]
  },
  {
   "cell_type": "markdown",
   "metadata": {},
   "source": [
    "###### Ans- The top ten states with the highest covid19 cases are Lagos followed by Abuja, Rivers, Kaduna, Oyo, Plateau, Edo, Ogun, Delta, and Ondo"
   ]
  },
  {
   "cell_type": "markdown",
   "metadata": {},
   "source": [
    "TODO B - Generate a plot that shows the Top 10 states in terms of Discharged Covid cases. Hint - Sort the values"
   ]
  },
  {
   "cell_type": "code",
   "execution_count": 61,
   "metadata": {},
   "outputs": [
    {
     "data": {
      "text/plain": [
       "<seaborn.axisgrid.FacetGrid at 0x181c931a1d0>"
      ]
     },
     "execution_count": 61,
     "metadata": {},
     "output_type": "execute_result"
    },
    {
     "data": {
      "image/png": "[encoded data removed]",
      "text/plain": [
       "<Figure size 1080x360 with 1 Axes>"
      ]
     },
     "metadata": {},
     "output_type": "display_data"
    }
   ],
   "source": [
    "TopTENDischarged = DFA_NCDC.sort_values(by = 'No. Discharged', ascending = False).head(10)\n",
    "\n",
    "data2 = TopTENDischarged[['States Affected', 'No. Discharged']]\n",
    "sns.catplot(data = data2, x = 'No. Discharged', y = 'States Affected', kind = 'bar', aspect = 3)"
   ]
  },
  {
   "cell_type": "markdown",
   "metadata": {},
   "source": [
    "###### The top 10 states in terms of discharge rate are: Lagos, FCT, Rivers, Kaduna, Plateau, Oyo, Edo, Ogun, Delta and Kano."
   ]
  },
  {
   "cell_type": "markdown",
   "metadata": {},
   "source": [
    "TODO D - Plot the top 10 Death cases"
   ]
  },
  {
   "cell_type": "code",
   "execution_count": 62,
   "metadata": {},
   "outputs": [
    {
     "data": {
      "text/plain": [
       "<seaborn.axisgrid.FacetGrid at 0x181c935aaa0>"
      ]
     },
     "execution_count": 62,
     "metadata": {},
     "output_type": "execute_result"
    },
    {
     "data": {
      "image/png": "[encoded data removed]",
      "text/plain": [
       "<Figure size 1080x360 with 1 Axes>"
      ]
     },
     "metadata": {},
     "output_type": "display_data"
    }
   ],
   "source": [
    "TopTENDdeath = DFA_NCDC.sort_values(by = 'No. of Deaths', ascending = False).head(10)\n",
    "\n",
    "data3 = TopTENDdeath[['States Affected', 'No. of Deaths']]\n",
    "sns.catplot(data = data3, x = 'No. of Deaths', y = 'States Affected', kind = 'bar', aspect = 3)"
   ]
  },
  {
   "cell_type": "markdown",
   "metadata": {},
   "source": [
    "###### The top 10 states with the highest death rates are: Lagos, Edo, FCT, Oyo, Rivers, Kano, Delta, Ondo, Osun, and Kaduna. "
   ]
  },
  {
   "cell_type": "markdown",
   "metadata": {},
   "source": [
    "TODO E - Generate a line plot for the total daily confirmed, recovered and death cases in Nigeria"
   ]
  },
  {
   "cell_type": "code",
   "execution_count": 63,
   "metadata": {},
   "outputs": [],
   "source": [
    "con_rec_death = pd.concat([nigeriaConfirmedcases, nigeriarecoveredcases['Cases'], nigeriadeathcases['Cases']], axis = 1, join = 'outer')"
   ]
  },
  {
   "cell_type": "code",
   "execution_count": 64,
   "metadata": {},
   "outputs": [],
   "source": [
    "con_rec_death.set_axis(['Date', 'Confirmed', 'Recovered', 'Deaths'], axis = 1, inplace = True)"
   ]
  },
  {
   "cell_type": "code",
   "execution_count": 65,
   "metadata": {},
   "outputs": [],
   "source": [
    "con_rec_death[\"Date\"] = pd.to_datetime(con_rec_death[\"Date\"])"
   ]
  },
  {
   "cell_type": "code",
   "execution_count": 66,
   "metadata": {},
   "outputs": [
    {
     "data": {
      "text/plain": [
       "<AxesSubplot:>"
      ]
     },
     "execution_count": 66,
     "metadata": {},
     "output_type": "execute_result"
    },
    {
     "data": {
      "image/png": "[encoded data removed]",
      "text/plain": [
       "<Figure size 432x288 with 1 Axes>"
      ]
     },
     "metadata": {},
     "output_type": "display_data"
    }
   ],
   "source": [
    "line_plotdata = con_rec_death[['Confirmed', 'Recovered', 'Deaths']]\n",
    "\n",
    "sns.lineplot(data = line_plotdata)"
   ]
  },
  {
   "cell_type": "markdown",
   "metadata": {},
   "source": [
    "TODO F - \n",
    "* Determine the daily infection rate, you can use the Pandas `diff` method to find the derivate of the total cases.\n",
    "* Generate a line plot for the above"
   ]
  },
  {
   "cell_type": "code",
   "execution_count": 67,
   "metadata": {},
   "outputs": [],
   "source": [
    "derivative = con_rec_death[['Date','Confirmed']]\n",
    "derivative['Confirmed'] = derivative['Confirmed'].diff()"
   ]
  },
  {
   "cell_type": "code",
   "execution_count": 68,
   "metadata": {},
   "outputs": [],
   "source": [
    "derivative.fillna(value = 0, inplace = True)"
   ]
  },
  {
   "cell_type": "code",
   "execution_count": 69,
   "metadata": {},
   "outputs": [
    {
     "data": {
      "text/html": [
       "<div>\n",
       "<style scoped>\n",
       "    .dataframe tbody tr th:only-of-type {\n",
       "        vertical-align: middle;\n",
       "    }\n",
       "\n",
       "    .dataframe tbody tr th {\n",
       "        vertical-align: top;\n",
       "    }\n",
       "\n",
       "    .dataframe thead th {\n",
       "        text-align: right;\n",
       "    }\n",
       "</style>\n",
       "<table border=\"1\" class=\"dataframe\">\n",
       "  <thead>\n",
       "    <tr style=\"text-align: right;\">\n",
       "      <th></th>\n",
       "      <th>Date</th>\n",
       "      <th>Confirmed</th>\n",
       "    </tr>\n",
       "  </thead>\n",
       "  <tbody>\n",
       "    <tr>\n",
       "      <th>0</th>\n",
       "      <td>2020-01-22</td>\n",
       "      <td>0.0</td>\n",
       "    </tr>\n",
       "    <tr>\n",
       "      <th>1</th>\n",
       "      <td>2020-01-23</td>\n",
       "      <td>0.0</td>\n",
       "    </tr>\n",
       "    <tr>\n",
       "      <th>2</th>\n",
       "      <td>2020-01-24</td>\n",
       "      <td>0.0</td>\n",
       "    </tr>\n",
       "    <tr>\n",
       "      <th>3</th>\n",
       "      <td>2020-01-25</td>\n",
       "      <td>0.0</td>\n",
       "    </tr>\n",
       "    <tr>\n",
       "      <th>4</th>\n",
       "      <td>2020-01-26</td>\n",
       "      <td>0.0</td>\n",
       "    </tr>\n",
       "    <tr>\n",
       "      <th>...</th>\n",
       "      <td>...</td>\n",
       "      <td>...</td>\n",
       "    </tr>\n",
       "    <tr>\n",
       "      <th>916</th>\n",
       "      <td>2022-07-26</td>\n",
       "      <td>425.0</td>\n",
       "    </tr>\n",
       "    <tr>\n",
       "      <th>917</th>\n",
       "      <td>2022-07-27</td>\n",
       "      <td>0.0</td>\n",
       "    </tr>\n",
       "    <tr>\n",
       "      <th>918</th>\n",
       "      <td>2022-07-28</td>\n",
       "      <td>213.0</td>\n",
       "    </tr>\n",
       "    <tr>\n",
       "      <th>919</th>\n",
       "      <td>2022-07-29</td>\n",
       "      <td>0.0</td>\n",
       "    </tr>\n",
       "    <tr>\n",
       "      <th>920</th>\n",
       "      <td>2022-07-30</td>\n",
       "      <td>0.0</td>\n",
       "    </tr>\n",
       "  </tbody>\n",
       "</table>\n",
       "<p>921 rows × 2 columns</p>\n",
       "</div>"
      ],
      "text/plain": [
       "          Date  Confirmed\n",
       "0   2020-01-22        0.0\n",
       "1   2020-01-23        0.0\n",
       "2   2020-01-24        0.0\n",
       "3   2020-01-25        0.0\n",
       "4   2020-01-26        0.0\n",
       "..         ...        ...\n",
       "916 2022-07-26      425.0\n",
       "917 2022-07-27        0.0\n",
       "918 2022-07-28      213.0\n",
       "919 2022-07-29        0.0\n",
       "920 2022-07-30        0.0\n",
       "\n",
       "[921 rows x 2 columns]"
      ]
     },
     "execution_count": 69,
     "metadata": {},
     "output_type": "execute_result"
    }
   ],
   "source": [
    "derivative"
   ]
  },
  {
   "cell_type": "code",
   "execution_count": 70,
   "metadata": {},
   "outputs": [
    {
     "data": {
      "text/plain": [
       "<AxesSubplot:xlabel='Date'>"
      ]
     },
     "execution_count": 70,
     "metadata": {},
     "output_type": "execute_result"
    },
    {
     "data": {
      "image/png": "[encoded data removed]",
      "text/plain": [
       "<Figure size 432x288 with 1 Axes>"
      ]
     },
     "metadata": {},
     "output_type": "display_data"
    }
   ],
   "source": [
    "derivative.plot.line(x = 'Date', y = 'Confirmed')"
   ]
  },
  {
   "cell_type": "code",
   "execution_count": 71,
   "metadata": {},
   "outputs": [],
   "source": [
    "#derivative.to_excel('changesincovidcases.xlsx')"
   ]
  },
  {
   "cell_type": "markdown",
   "metadata": {},
   "source": [
    "TODO G - \n",
    "* Calculate maximum infection rate for a day (Number of new cases)\n",
    "* Find the date"
   ]
  },
  {
   "cell_type": "markdown",
   "metadata": {},
   "source": [
    "- It is important to note here that the data in con_rec_death above are cummulative. That is to say that it would not give the daily rate of infections except one finds/calculates the derivetive which has been done above. The shape of the line_plotdata indicates this. It looks like an ogive. See below for the highest daily infection."
   ]
  },
  {
   "cell_type": "code",
   "execution_count": 72,
   "metadata": {},
   "outputs": [
    {
     "name": "stdout",
     "output_type": "stream",
     "text": [
      "6158.0\n"
     ]
    }
   ],
   "source": [
    "highest_confirmed = derivative['Confirmed'].max()\n",
    "\n",
    "print(highest_confirmed)\n",
    "\n"
   ]
  },
  {
   "cell_type": "code",
   "execution_count": 73,
   "metadata": {},
   "outputs": [
    {
     "name": "stdout",
     "output_type": "stream",
     "text": [
      "700   2021-12-22\n",
      "Name: Date, dtype: datetime64[ns]\n"
     ]
    }
   ],
   "source": [
    "indexof_max = derivative['Confirmed'].index[derivative['Confirmed'] == 6158.0]\n",
    "\n",
    "print(derivative['Date'].iloc[indexof_max])"
   ]
  },
  {
   "cell_type": "markdown",
   "metadata": {},
   "source": [
    "- -ANS.: 2021-12-22 is the Date with the Highest rate of new COVID19 cases. That is, 22nd of December 2021. "
   ]
  },
  {
   "cell_type": "markdown",
   "metadata": {},
   "source": [
    "TODO H - Determine the relationship between the external dataset and the NCDC COVID-19 dataset. \n",
    "Here you will generate a line plot of top 10 confirmed cases and the overall community vulnerability index on the same axis. From the graph, explain your observation.\n",
    "<br>\n",
    "Steps\n",
    "* Combine the two dataset together on a common column(states)\n",
    "* Create a new dataframe for plotting. This DataFrame will contain top 10 states in terms of confirmed cases i.e sort by confirmed cases. ** Hint: Check out Pandas [nlargest](https://pandas.pydata.org/pandas-docs/stable/reference/api/pandas.DataFrame.nlargest.html) function. This [tutorial](https://cmdlinetips.com/2019/03/how-to-select-top-n-rows-with-the-largest-values-in-a-columns-in-pandas/) can help out ** \n",
    "* Plot both variable on the same axis. Check out this [tutorial](http://kitchingroup.cheme.cmu.edu/blog/2013/09/13/Plotting-two-datasets-with-very-different-scales/)"
   ]
  },
  {
   "cell_type": "code",
   "execution_count": 74,
   "metadata": {},
   "outputs": [],
   "source": [
    "DFA_NCDC.rename(columns = {'States Affected':'states'}, inplace = True)\n"
   ]
  },
  {
   "cell_type": "code",
   "execution_count": 75,
   "metadata": {},
   "outputs": [],
   "source": [
    "\n",
    "Ext_NCDC = pd.merge(DFA_NCDC, covid_extDF, on = ['states', 'states'], how = 'outer')"
   ]
  },
  {
   "cell_type": "code",
   "execution_count": 76,
   "metadata": {},
   "outputs": [],
   "source": [
    "Ext_NCDC = Ext_NCDC.nlargest(10, 'No. of Cases (Lab Confirmed)')"
   ]
  },
  {
   "cell_type": "code",
   "execution_count": 77,
   "metadata": {},
   "outputs": [],
   "source": [
    "topTENexternal_NCDC = Ext_NCDC[['states', 'No. of Cases (Lab Confirmed)', 'Overall CCVI Index']]"
   ]
  },
  {
   "cell_type": "code",
   "execution_count": null,
   "metadata": {},
   "outputs": [
    {
     "data": {
      "text/plain": [
       "<matplotlib.legend.Legend at 0x181d8e0c190>"
      ]
     },
     "execution_count": 112,
     "metadata": {},
     "output_type": "execute_result"
    },
    {
     "data": {
      "text/plain": [
       "<Figure size 432x288 with 0 Axes>"
      ]
     },
     "metadata": {},
     "output_type": "display_data"
    },
    {
     "data": {
      "image/png": "[encoded data removed]",
      "text/plain": [
       "<Figure size 720x432 with 1 Axes>"
      ]
     },
     "metadata": {},
     "output_type": "display_data"
    }
   ],
   "source": [
    "plt.figure()\n",
    "plt.figure(figsize= (10,6))\n",
    "plt.plot(topTENexternal_NCDC['states'], topTENexternal_NCDC['No. of Cases (Lab Confirmed)'], topTENexternal_NCDC['states'], 10000* topTENexternal_NCDC['Overall CCVI Index'])\n",
    "plt.legend(['Confirmed cases', '10000*CCVI'])\n",
    "\n",
    "\n",
    "#plt.savefig('images/two-scales-4.png')"
   ]
  },
  {
   "cell_type": "code",
   "execution_count": 121,
   "metadata": {},
   "outputs": [
    {
     "data": {
      "text/plain": [
       "<AxesSubplot:>"
      ]
     },
     "execution_count": 121,
     "metadata": {},
     "output_type": "execute_result"
    },
    {
     "data": {
      "image/png": "[encoded data removed]",
      "text/plain": [
       "<Figure size 432x288 with 2 Axes>"
      ]
     },
     "metadata": {},
     "output_type": "display_data"
    }
   ],
   "source": [
    "sns.heatmap(topTENexternal_NCDC[['No. of Cases (Lab Confirmed)', 'Overall CCVI Index']].corr(),annot = True)"
   ]
  },
  {
   "cell_type": "markdown",
   "metadata": {},
   "source": [
    "- Note that the heatmap shows an overall negative relationship between the variables. This is bacause the dataset contains extreme values like the number of covid 19 cases in Lagos. For Lagos, there is an inverse relationship between the CCVI and the number of Covid cases. Kaduna, however seems to have a somewhat positive relationship between the CCVI and the number of cases confirmed."
   ]
  },
  {
   "cell_type": "markdown",
   "metadata": {},
   "source": [
    "TODO I - Determine the relationship between the external dataset and the NCDC COVID-19 dataset. \n",
    "* Here you will generate a regression plot between two variables to visualize the linear relationships - Confirmed Cases and Population Density.\n",
    "Hint: Check out Seaborn [Regression Plot](https://seaborn.pydata.org/generated/seaborn.regplot.html).\n",
    "* Provide a summary of your observation"
   ]
  },
  {
   "cell_type": "code",
   "execution_count": 123,
   "metadata": {},
   "outputs": [
    {
     "data": {
      "text/plain": [
       "<AxesSubplot:xlabel='No. of Cases (Lab Confirmed)', ylabel='Population'>"
      ]
     },
     "execution_count": 123,
     "metadata": {},
     "output_type": "execute_result"
    },
    {
     "data": {
      "image/png": "[encoded data removed]",
      "text/plain": [
       "<Figure size 432x288 with 1 Axes>"
      ]
     },
     "metadata": {},
     "output_type": "display_data"
    }
   ],
   "source": [
    "regression_plot = Ext_NCDC[['No. of Cases (Lab Confirmed)', 'Population']]\n",
    "sns.regplot(x= 'No. of Cases (Lab Confirmed)', y = 'Population',data = regression_plot, fit_reg=True)\n",
    "\n"
   ]
  },
  {
   "cell_type": "markdown",
   "metadata": {},
   "source": [
    "- ans.: The above chart shows that there is a direct relationship between the Number of cases confirmed and the population. This is to say that as the population rises(along the y axis) the number of cases also increases (along the x axis). "
   ]
  },
  {
   "cell_type": "markdown",
   "metadata": {},
   "source": [
    "TODO J - \n",
    "* Provide more analyses by extending TODO G & H. Meaning, determine relationships between more features.\n",
    "* Provide a detailed summary of your findings. \n",
    "* Note that you can have as many as possible."
   ]
  },
  {
   "cell_type": "code",
   "execution_count": 125,
   "metadata": {},
   "outputs": [],
   "source": [
    "Ext_NCDC['Death Per Case'] = Ext_NCDC[['No. of Deaths']].apply(lambda x:x/Ext_NCDC['No. of Cases (Lab Confirmed)'])"
   ]
  },
  {
   "cell_type": "code",
   "execution_count": 127,
   "metadata": {},
   "outputs": [
    {
     "data": {
      "text/plain": [
       "<AxesSubplot:xlabel='Death Per Case', ylabel='Health System'>"
      ]
     },
     "execution_count": 127,
     "metadata": {},
     "output_type": "execute_result"
    },
    {
     "data": {
      "image/png": "[encoded data removed]",
      "text/plain": [
       "<Figure size 432x288 with 1 Axes>"
      ]
     },
     "metadata": {},
     "output_type": "display_data"
    }
   ],
   "source": [
    "Ext_NCDC.head()\n",
    "regress_plot2 = Ext_NCDC[['Death Per Case', 'Health System']]\n",
    "sns.regplot(x= 'Death Per Case', y = 'Health System',data = regress_plot2, fit_reg=True)\n"
   ]
  },
  {
   "cell_type": "markdown",
   "metadata": {},
   "source": [
    "- From the sake of comparison, I included a new column which calculates the number of deaths per the cases confirmed. Then I compared this with the health system. The expectation here is that where a state scores high in its health system, the number of deaths per case confirmed should be low. And that's what the above chart depicts. where the health system is high, the death per case is small."
   ]
  },
  {
   "cell_type": "markdown",
   "metadata": {},
   "source": [
    "### TODO L - \n",
    "Determine the effect of the Pandemic on the economy. To do this, you will compare the Real GDP value Pre-COVID-19 with Real GDP in 2020 (COVID-19 Period, especially Q2 2020)\n",
    "<br>\n",
    "Steps\n",
    "* From the Real GDP Data, generate a `barplot` using the GDP values for each year & quarters. For example: On x-axis you will have year 2017 and the bars will be values of each quarters(Q1-Q4). You expected to have subplots of each quarters on one graph.\n",
    "<br>\n",
    "Hint: Use [Pandas.melt](https://pandas.pydata.org/docs/reference/api/pandas.melt.html) to create your plot DataFrame \n",
    "* Set your quarter legend to lower left.\n",
    "* Using `axhline`, draw a horizontal line through the graph at the value of Q2 2020.\n",
    "* Write out your observation"
   ]
  },
  {
   "cell_type": "code",
   "execution_count": 130,
   "metadata": {},
   "outputs": [
    {
     "data": {
      "text/plain": [
       "<seaborn.axisgrid.FacetGrid at 0x181d92aa3e0>"
      ]
     },
     "execution_count": 130,
     "metadata": {},
     "output_type": "execute_result"
    },
    {
     "data": {
      "image/png": "[encoded data removed]",
      "text/plain": [
       "<Figure size 360x360 with 1 Axes>"
      ]
     },
     "metadata": {},
     "output_type": "display_data"
    }
   ],
   "source": [
    "RealGDP_Bars = pd.melt(GDP_df, id_vars = 'Year')\n"
   ]
  },
  {
   "cell_type": "code",
   "execution_count": 134,
   "metadata": {},
   "outputs": [
    {
     "data": {
      "text/html": [
       "<div>\n",
       "<style scoped>\n",
       "    .dataframe tbody tr th:only-of-type {\n",
       "        vertical-align: middle;\n",
       "    }\n",
       "\n",
       "    .dataframe tbody tr th {\n",
       "        vertical-align: top;\n",
       "    }\n",
       "\n",
       "    .dataframe thead th {\n",
       "        text-align: right;\n",
       "    }\n",
       "</style>\n",
       "<table border=\"1\" class=\"dataframe\">\n",
       "  <thead>\n",
       "    <tr style=\"text-align: right;\">\n",
       "      <th></th>\n",
       "      <th>Year</th>\n",
       "      <th>variable</th>\n",
       "      <th>value</th>\n",
       "    </tr>\n",
       "  </thead>\n",
       "  <tbody>\n",
       "    <tr>\n",
       "      <th>0</th>\n",
       "      <td>2014</td>\n",
       "      <td>Q1</td>\n",
       "      <td>15438679.50</td>\n",
       "    </tr>\n",
       "    <tr>\n",
       "      <th>1</th>\n",
       "      <td>2015</td>\n",
       "      <td>Q1</td>\n",
       "      <td>16050601.38</td>\n",
       "    </tr>\n",
       "    <tr>\n",
       "      <th>2</th>\n",
       "      <td>2016</td>\n",
       "      <td>Q1</td>\n",
       "      <td>15943714.54</td>\n",
       "    </tr>\n",
       "    <tr>\n",
       "      <th>3</th>\n",
       "      <td>2017</td>\n",
       "      <td>Q1</td>\n",
       "      <td>15797965.83</td>\n",
       "    </tr>\n",
       "    <tr>\n",
       "      <th>4</th>\n",
       "      <td>2018</td>\n",
       "      <td>Q1</td>\n",
       "      <td>16096654.19</td>\n",
       "    </tr>\n",
       "    <tr>\n",
       "      <th>5</th>\n",
       "      <td>2019</td>\n",
       "      <td>Q1</td>\n",
       "      <td>16434552.65</td>\n",
       "    </tr>\n",
       "    <tr>\n",
       "      <th>6</th>\n",
       "      <td>2020</td>\n",
       "      <td>Q1</td>\n",
       "      <td>16740000.00</td>\n",
       "    </tr>\n",
       "    <tr>\n",
       "      <th>7</th>\n",
       "      <td>2014</td>\n",
       "      <td>Q2</td>\n",
       "      <td>16084622.31</td>\n",
       "    </tr>\n",
       "    <tr>\n",
       "      <th>8</th>\n",
       "      <td>2015</td>\n",
       "      <td>Q2</td>\n",
       "      <td>16463341.91</td>\n",
       "    </tr>\n",
       "    <tr>\n",
       "      <th>9</th>\n",
       "      <td>2016</td>\n",
       "      <td>Q2</td>\n",
       "      <td>16218542.41</td>\n",
       "    </tr>\n",
       "    <tr>\n",
       "      <th>10</th>\n",
       "      <td>2017</td>\n",
       "      <td>Q2</td>\n",
       "      <td>16334719.27</td>\n",
       "    </tr>\n",
       "    <tr>\n",
       "      <th>11</th>\n",
       "      <td>2018</td>\n",
       "      <td>Q2</td>\n",
       "      <td>16580508.07</td>\n",
       "    </tr>\n",
       "    <tr>\n",
       "      <th>12</th>\n",
       "      <td>2019</td>\n",
       "      <td>Q2</td>\n",
       "      <td>16931434.89</td>\n",
       "    </tr>\n",
       "    <tr>\n",
       "      <th>13</th>\n",
       "      <td>2020</td>\n",
       "      <td>Q2</td>\n",
       "      <td>15890000.00</td>\n",
       "    </tr>\n",
       "    <tr>\n",
       "      <th>14</th>\n",
       "      <td>2014</td>\n",
       "      <td>Q3</td>\n",
       "      <td>17479127.58</td>\n",
       "    </tr>\n",
       "    <tr>\n",
       "      <th>15</th>\n",
       "      <td>2015</td>\n",
       "      <td>Q3</td>\n",
       "      <td>17976234.59</td>\n",
       "    </tr>\n",
       "    <tr>\n",
       "      <th>16</th>\n",
       "      <td>2016</td>\n",
       "      <td>Q3</td>\n",
       "      <td>17555441.69</td>\n",
       "    </tr>\n",
       "    <tr>\n",
       "      <th>17</th>\n",
       "      <td>2017</td>\n",
       "      <td>Q3</td>\n",
       "      <td>17760228.17</td>\n",
       "    </tr>\n",
       "    <tr>\n",
       "      <th>18</th>\n",
       "      <td>2018</td>\n",
       "      <td>Q3</td>\n",
       "      <td>18081342.10</td>\n",
       "    </tr>\n",
       "    <tr>\n",
       "      <th>19</th>\n",
       "      <td>2019</td>\n",
       "      <td>Q3</td>\n",
       "      <td>18494114.17</td>\n",
       "    </tr>\n",
       "    <tr>\n",
       "      <th>20</th>\n",
       "      <td>2020</td>\n",
       "      <td>Q3</td>\n",
       "      <td>17820000.00</td>\n",
       "    </tr>\n",
       "    <tr>\n",
       "      <th>21</th>\n",
       "      <td>2014</td>\n",
       "      <td>Q4</td>\n",
       "      <td>18150356.45</td>\n",
       "    </tr>\n",
       "    <tr>\n",
       "      <th>22</th>\n",
       "      <td>2015</td>\n",
       "      <td>Q4</td>\n",
       "      <td>18533752.07</td>\n",
       "    </tr>\n",
       "    <tr>\n",
       "      <th>23</th>\n",
       "      <td>2016</td>\n",
       "      <td>Q4</td>\n",
       "      <td>18213537.29</td>\n",
       "    </tr>\n",
       "    <tr>\n",
       "      <th>24</th>\n",
       "      <td>2017</td>\n",
       "      <td>Q4</td>\n",
       "      <td>18598067.07</td>\n",
       "    </tr>\n",
       "    <tr>\n",
       "      <th>25</th>\n",
       "      <td>2018</td>\n",
       "      <td>Q4</td>\n",
       "      <td>19041437.59</td>\n",
       "    </tr>\n",
       "    <tr>\n",
       "      <th>26</th>\n",
       "      <td>2019</td>\n",
       "      <td>Q4</td>\n",
       "      <td>19530000.00</td>\n",
       "    </tr>\n",
       "    <tr>\n",
       "      <th>27</th>\n",
       "      <td>2020</td>\n",
       "      <td>Q4</td>\n",
       "      <td>0.00</td>\n",
       "    </tr>\n",
       "  </tbody>\n",
       "</table>\n",
       "</div>"
      ],
      "text/plain": [
       "    Year variable        value\n",
       "0   2014       Q1  15438679.50\n",
       "1   2015       Q1  16050601.38\n",
       "2   2016       Q1  15943714.54\n",
       "3   2017       Q1  15797965.83\n",
       "4   2018       Q1  16096654.19\n",
       "5   2019       Q1  16434552.65\n",
       "6   2020       Q1  16740000.00\n",
       "7   2014       Q2  16084622.31\n",
       "8   2015       Q2  16463341.91\n",
       "9   2016       Q2  16218542.41\n",
       "10  2017       Q2  16334719.27\n",
       "11  2018       Q2  16580508.07\n",
       "12  2019       Q2  16931434.89\n",
       "13  2020       Q2  15890000.00\n",
       "14  2014       Q3  17479127.58\n",
       "15  2015       Q3  17976234.59\n",
       "16  2016       Q3  17555441.69\n",
       "17  2017       Q3  17760228.17\n",
       "18  2018       Q3  18081342.10\n",
       "19  2019       Q3  18494114.17\n",
       "20  2020       Q3  17820000.00\n",
       "21  2014       Q4  18150356.45\n",
       "22  2015       Q4  18533752.07\n",
       "23  2016       Q4  18213537.29\n",
       "24  2017       Q4  18598067.07\n",
       "25  2018       Q4  19041437.59\n",
       "26  2019       Q4  19530000.00\n",
       "27  2020       Q4         0.00"
      ]
     },
     "execution_count": 134,
     "metadata": {},
     "output_type": "execute_result"
    }
   ],
   "source": [
    "RealGDP_Bars"
   ]
  },
  {
   "cell_type": "code",
   "execution_count": 137,
   "metadata": {},
   "outputs": [
    {
     "data": {
      "text/plain": [
       "<matplotlib.lines.Line2D at 0x181d93d8b20>"
      ]
     },
     "execution_count": 137,
     "metadata": {},
     "output_type": "execute_result"
    },
    {
     "data": {
      "image/png": "[encoded data removed]",
      "text/plain": [
       "<Figure size 429.275x360 with 1 Axes>"
      ]
     },
     "metadata": {},
     "output_type": "display_data"
    }
   ],
   "source": [
    "RealGDP_Bars\n",
    "sns.catplot(x = 'Year', y = 'value', hue = 'variable', data = RealGDP_Bars, kind = 'bar', )\n",
    "\n",
    "plt.axhline(y = 15890000.00, linestyle = '--')"
   ]
  },
  {
   "cell_type": "markdown",
   "metadata": {},
   "source": [
    "- The above chart shows that the COVID19 pandemic had a negative effect on the country's real GDP, as it took it to the lowest it had ever been in the years under review."
   ]
  },
  {
   "cell_type": "markdown",
   "metadata": {},
   "source": []
  },
  {
   "cell_type": "markdown",
   "metadata": {},
   "source": [
    "### Note: Do not limit your analysis to the provided TODOs. Perform more analyses e.g \n",
    "* Check for more external dataset\n",
    "* Ask more questions & find the right answers by exploring the data"
   ]
  },
  {
   "cell_type": "markdown",
   "metadata": {},
   "source": []
  }
 ],
 "metadata": {
  "kernelspec": {
   "display_name": "Python 3.10.5 64-bit",
   "language": "python",
   "name": "python3"
  },
  "language_info": {
   "codemirror_mode": {
    "name": "ipython",
    "version": 3
   },
   "file_extension": ".py",
   "mimetype": "text/x-python",
   "name": "python",
   "nbconvert_exporter": "python",
   "pygments_lexer": "ipython3",
   "version": "3.10.5"
  },
  "orig_nbformat": 2,
  "vscode": {
   "interpreter": {
    "hash": "09ee91ebffae6b5215c2e272f55b639b0f33a2a13a3abadeab5b128d1c341732"
   }
  }
 },
 "nbformat": 4,
 "nbformat_minor": 2
}
